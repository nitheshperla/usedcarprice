{
 "cells": [
  {
   "cell_type": "code",
   "execution_count": 1,
   "id": "236b62af",
   "metadata": {},
   "outputs": [
    {
     "name": "stdout",
     "output_type": "stream",
     "text": [
      "Requirement already satisfied: requests in c:\\users\\pc\\anaconda3\\lib\\site-packages (2.31.0)\n",
      "Requirement already satisfied: charset-normalizer<4,>=2 in c:\\users\\pc\\anaconda3\\lib\\site-packages (from requests) (2.0.4)\n",
      "Requirement already satisfied: idna<4,>=2.5 in c:\\users\\pc\\anaconda3\\lib\\site-packages (from requests) (3.4)\n",
      "Requirement already satisfied: urllib3<3,>=1.21.1 in c:\\users\\pc\\anaconda3\\lib\\site-packages (from requests) (1.26.16)\n",
      "Requirement already satisfied: certifi>=2017.4.17 in c:\\users\\pc\\anaconda3\\lib\\site-packages (from requests) (2023.7.22)\n"
     ]
    }
   ],
   "source": [
    "!pip install requests\n",
    "import requests\n",
    "from bs4 import BeautifulSoup\n"
   ]
  },
  {
   "cell_type": "code",
   "execution_count": 2,
   "id": "c5362d39",
   "metadata": {},
   "outputs": [
    {
     "name": "stdout",
     "output_type": "stream",
     "text": [
      "Requirement already satisfied: requests in c:\\users\\pc\\anaconda3\\lib\\site-packages (2.31.0)\n",
      "Requirement already satisfied: beautifulsoup4 in c:\\users\\pc\\anaconda3\\lib\\site-packages (4.12.2)\n",
      "Requirement already satisfied: pandas in c:\\users\\pc\\anaconda3\\lib\\site-packages (2.0.3)\n",
      "Requirement already satisfied: openpyxl in c:\\users\\pc\\anaconda3\\lib\\site-packages (3.0.10)\n",
      "Requirement already satisfied: charset-normalizer<4,>=2 in c:\\users\\pc\\anaconda3\\lib\\site-packages (from requests) (2.0.4)\n",
      "Requirement already satisfied: idna<4,>=2.5 in c:\\users\\pc\\anaconda3\\lib\\site-packages (from requests) (3.4)\n",
      "Requirement already satisfied: urllib3<3,>=1.21.1 in c:\\users\\pc\\anaconda3\\lib\\site-packages (from requests) (1.26.16)\n",
      "Requirement already satisfied: certifi>=2017.4.17 in c:\\users\\pc\\anaconda3\\lib\\site-packages (from requests) (2023.7.22)\n",
      "Requirement already satisfied: soupsieve>1.2 in c:\\users\\pc\\anaconda3\\lib\\site-packages (from beautifulsoup4) (2.4)\n",
      "Requirement already satisfied: python-dateutil>=2.8.2 in c:\\users\\pc\\anaconda3\\lib\\site-packages (from pandas) (2.8.2)\n",
      "Requirement already satisfied: pytz>=2020.1 in c:\\users\\pc\\anaconda3\\lib\\site-packages (from pandas) (2023.3.post1)\n",
      "Requirement already satisfied: tzdata>=2022.1 in c:\\users\\pc\\anaconda3\\lib\\site-packages (from pandas) (2023.3)\n",
      "Requirement already satisfied: numpy>=1.21.0 in c:\\users\\pc\\anaconda3\\lib\\site-packages (from pandas) (1.24.3)\n",
      "Requirement already satisfied: et_xmlfile in c:\\users\\pc\\anaconda3\\lib\\site-packages (from openpyxl) (1.1.0)\n",
      "Requirement already satisfied: six>=1.5 in c:\\users\\pc\\anaconda3\\lib\\site-packages (from python-dateutil>=2.8.2->pandas) (1.16.0)\n",
      "Note: you may need to restart the kernel to use updated packages.\n"
     ]
    }
   ],
   "source": [
    "pip install requests beautifulsoup4 pandas openpyxl\n"
   ]
  },
  {
   "cell_type": "code",
   "execution_count": null,
   "id": "5ece8eb7",
   "metadata": {},
   "outputs": [],
   "source": []
  },
  {
   "cell_type": "code",
   "execution_count": 5,
   "id": "2231df2c",
   "metadata": {},
   "outputs": [
    {
     "name": "stdout",
     "output_type": "stream",
     "text": [
      "Found 20 cars\n",
      "Found 20 cars\n",
      "Found 20 cars\n",
      "Found 20 cars\n",
      "Data has been written to cars_list.xlsx\n"
     ]
    }
   ],
   "source": [
    "import requests\n",
    "from bs4 import BeautifulSoup\n",
    "from openpyxl import Workbook\n",
    "url = 'https://www.cars24.com/buy-used-car?sort=bestmatch&serveWarrantyCount=true&listingSource=ViewAllCars&storeCityId=2'\n",
    "response = requests.get(url)\n",
    "response.raise_for_status()\n",
    "soup = BeautifulSoup(response.text, 'html.parser')\n",
    "carslist = soup.find('div', class_='_2ujGx').find_all('div', class_='_2YB7p')\n",
    "costs = soup.find_all('strong', class_='_3RL-I')\n",
    "emi = soup.find_all('span', class_='_2O0yU')\n",
    "fueltype=soup.find_all('ul',class_='_3J2G-')\n",
    "print(f\"Found {len(carslist)} cars\")\n",
    "print(f\"Found {len(costs)} cars\")\n",
    "print(f\"Found {len(emi)} cars\")\n",
    "print(f\"Found {len(fueltype)} cars\")\n",
    "cars = []\n",
    "for listing, cost, emi,fuel in zip(carslist, costs, emi,fueltype):\n",
    "    m = listing.find('h3').text.strip()\n",
    "    parts = m.split()\n",
    "    year = parts[0]\n",
    "    brand = parts[1]\n",
    "    model = ' '.join(parts[2:])\n",
    "    cost_car = cost.text.strip()\n",
    "    emi_car = emi.text.strip().split()[2] \n",
    "    g = fuel.text.strip()\n",
    "    gas=g[0:7]\n",
    "    if(g[9]=='P'):\n",
    "        f_type=\"Petrol\"\n",
    "    elif(g[9]==\"C\"):\n",
    "        f_type=\"C.N.G\"\n",
    "    else:\n",
    "        f_type=\"Diesel\"\n",
    "    \n",
    "    if(g[15]=='M'):\n",
    "        vehicle_type=\"Manual\"\n",
    "    else:\n",
    "        vehicle_type=\"Automatic\"\n",
    "    cars.append((brand, model, year, cost_car, emi_car, gas,f_type,vehicle_type))\n",
    "\n",
    "wb = Workbook()\n",
    "ws = wb.active\n",
    "\n",
    "ws.append(['Brand', 'Model', 'Year', 'Cost', 'EMI','kilometeters','f_type','vehicle_type'])\n",
    "for car in cars:\n",
    "    ws.append(car)\n",
    "\n",
    "wb.save('excellenc.xlsx')\n",
    "print(\"Data has been written to cars_list.xlsx\")\n"
   ]
  },
  {
   "cell_type": "code",
   "execution_count": null,
   "id": "835ad188",
   "metadata": {},
   "outputs": [],
   "source": []
  },
  {
   "cell_type": "code",
   "execution_count": 6,
   "id": "dae390db",
   "metadata": {},
   "outputs": [
    {
     "name": "stdout",
     "output_type": "stream",
     "text": [
      "Found 20 cars\n",
      "Found 20 cars\n",
      "Found 20 cars\n",
      "Found 20 cars\n",
      "Data has been written to cars_list.xlsx\n"
     ]
    }
   ],
   "source": [
    "import requests\n",
    "from bs4 import BeautifulSoup\n",
    "from openpyxl import Workbook\n",
    "\n",
    "url = 'https://www.cars24.com/buy-used-cars-hyderabad/'\n",
    "response = requests.get(url)\n",
    "response.raise_for_status()\n",
    "soup = BeautifulSoup(response.text, 'html.parser')\n",
    "\n",
    "carslist = soup.find('div', class_='_2d2CZ').find_all('div', class_='_2YB7p')\n",
    "costs = soup.find_all('strong', class_='_3RL-I')\n",
    "emi = soup.find_all('span', class_='_2O0yU')\n",
    "fueltype=soup.find_all('ul',class_='_3J2G-')\n",
    "\n",
    "print(f\"Found {len(carslist)} cars\")\n",
    "print(f\"Found {len(costs)} cars\")\n",
    "print(f\"Found {len(emi)} cars\")\n",
    "print(f\"Found {len(fueltype)} cars\")\n",
    "\n",
    "\n",
    "cars = []\n",
    "for listing, cost, emi,fuel in zip(carslist, costs, emi,fueltype):\n",
    "    m = listing.find('h3').text.strip()\n",
    "    parts = m.split()\n",
    "    year = parts[0]\n",
    "    brand = parts[1]\n",
    "    model = ' '.join(parts[2:])\n",
    "    cost_car = cost.text.strip()\n",
    "    emi_car = emi.text.strip().split()[2] \n",
    "    g = fuel.text.strip()\n",
    "    gas=g[0:7]\n",
    "    if(g[9]=='P'):\n",
    "        f_type=\"Petrol\"\n",
    "    elif(g[9]==\"C\"):\n",
    "        f_type=\"C.N.G\"\n",
    "    else:\n",
    "        f_type=\"Diesel\"\n",
    "    \n",
    "    if(g[15]=='M'):\n",
    "        vehicle_type=\"Manual\"\n",
    "    else:\n",
    "        vehicle_type=\"Automatic\"\n",
    "    cars.append((brand, model, year, cost_car, emi_car, gas,f_type,vehicle_type))\n",
    "\n",
    "wb = Workbook()\n",
    "ws = wb.active\n",
    "\n",
    "ws.append(['Brand', 'Model', 'Year', 'Cost', 'EMI','kilometeters','f_type','vehicle_type'])\n",
    "for car in cars:\n",
    "    ws.append(car)\n",
    "\n",
    "wb.save('newexcellenc.xlsx')\n",
    "print(\"Data has been written to cars_list.xlsx\")\n"
   ]
  },
  {
   "cell_type": "code",
   "execution_count": null,
   "id": "6d8175e4",
   "metadata": {},
   "outputs": [],
   "source": []
  }
 ],
 "metadata": {
  "kernelspec": {
   "display_name": "Python 3 (ipykernel)",
   "language": "python",
   "name": "python3"
  },
  "language_info": {
   "codemirror_mode": {
    "name": "ipython",
    "version": 3
   },
   "file_extension": ".py",
   "mimetype": "text/x-python",
   "name": "python",
   "nbconvert_exporter": "python",
   "pygments_lexer": "ipython3",
   "version": "3.11.5"
  }
 },
 "nbformat": 4,
 "nbformat_minor": 5
}
